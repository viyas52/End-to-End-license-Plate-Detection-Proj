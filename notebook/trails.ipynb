{
 "cells": [
  {
   "cell_type": "code",
   "execution_count": 1,
   "metadata": {},
   "outputs": [
    {
     "name": "stdout",
     "output_type": "stream",
     "text": [
      "ok\n"
     ]
    }
   ],
   "source": [
    "print(\"ok\")"
   ]
  },
  {
   "cell_type": "code",
   "execution_count": 2,
   "metadata": {},
   "outputs": [],
   "source": [
    "import gdown"
   ]
  },
  {
   "cell_type": "code",
   "execution_count": 4,
   "metadata": {},
   "outputs": [],
   "source": [
    "url = \"https://drive.google.com/file/d/10V1rsYPicG9u6UXMOxGJYK4fI0U0_RG7/view?usp=drive_link\""
   ]
  },
  {
   "cell_type": "code",
   "execution_count": 5,
   "metadata": {},
   "outputs": [
    {
     "data": {
      "text/plain": [
       "'10V1rsYPicG9u6UXMOxGJYK4fI0U0_RG7'"
      ]
     },
     "execution_count": 5,
     "metadata": {},
     "output_type": "execute_result"
    }
   ],
   "source": [
    "file_id = url.split(\"/\")[-2]\n",
    "file_id"
   ]
  },
  {
   "cell_type": "code",
   "execution_count": 6,
   "metadata": {},
   "outputs": [
    {
     "name": "stderr",
     "output_type": "stream",
     "text": [
      "Downloading...\n",
      "From (original): http://drive.google.com/uc?/export=download&id=10V1rsYPicG9u6UXMOxGJYK4fI0U0_RG7\n",
      "From (redirected): https://drive.google.com/uc?%2Fexport=download&id=10V1rsYPicG9u6UXMOxGJYK4fI0U0_RG7&confirm=t&uuid=df0ab687-e114-4d30-8c9b-638b38f9d958\n",
      "To: d:\\My Workspace\\proj_file\\End-to-End-license-Plate-Detection-Proj\\notebook\\LicensePlate_Data.zip\n",
      "100%|██████████| 391M/391M [00:08<00:00, 46.1MB/s] \n"
     ]
    },
    {
     "data": {
      "text/plain": [
       "'LicensePlate_Data.zip'"
      ]
     },
     "execution_count": 6,
     "metadata": {},
     "output_type": "execute_result"
    }
   ],
   "source": [
    "prefix = 'http://drive.google.com/uc?/export=download&id='\n",
    "gdown.download(prefix+file_id, \"LicensePlate_Data.zip\")"
   ]
  },
  {
   "cell_type": "code",
   "execution_count": null,
   "metadata": {},
   "outputs": [],
   "source": []
  }
 ],
 "metadata": {
  "kernelspec": {
   "display_name": "ETELP",
   "language": "python",
   "name": "python3"
  },
  "language_info": {
   "codemirror_mode": {
    "name": "ipython",
    "version": 3
   },
   "file_extension": ".py",
   "mimetype": "text/x-python",
   "name": "python",
   "nbconvert_exporter": "python",
   "pygments_lexer": "ipython3",
   "version": "3.8.19"
  }
 },
 "nbformat": 4,
 "nbformat_minor": 2
}
